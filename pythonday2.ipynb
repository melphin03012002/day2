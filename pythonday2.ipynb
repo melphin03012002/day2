{
  "nbformat": 4,
  "nbformat_minor": 0,
  "metadata": {
    "colab": {
      "name": "pythonday2.ipynb",
      "provenance": [],
      "authorship_tag": "ABX9TyNUziDjhGQjw61/aPQWBCe5",
      "include_colab_link": true
    },
    "kernelspec": {
      "name": "python3",
      "display_name": "Python 3"
    },
    "language_info": {
      "name": "python"
    }
  },
  "cells": [
    {
      "cell_type": "markdown",
      "metadata": {
        "id": "view-in-github",
        "colab_type": "text"
      },
      "source": [
        "<a href=\"https://colab.research.google.com/github/melphin03012002/day2/blob/main/pythonday2.ipynb\" target=\"_parent\"><img src=\"https://colab.research.google.com/assets/colab-badge.svg\" alt=\"Open In Colab\"/></a>"
      ]
    },
    {
      "cell_type": "code",
      "metadata": {
        "colab": {
          "base_uri": "https://localhost:8080/"
        },
        "id": "JrMEraxQd0v6",
        "outputId": "82904bb7-63cd-40d2-d960-9257c37e6624"
      },
      "source": [
        "inp_str = \"MelphinMadonna\"\n",
        "out = {x : inp_str.count(x) for x in set(inp_str )} \n",
        "print (\"Occurrence of all characters in MelphinMadonna is :\\n \"+ str(out))"
      ],
      "execution_count": 3,
      "outputs": [
        {
          "output_type": "stream",
          "text": [
            "Occurrence of all characters in MelphinMadonna is :\n",
            " {'n': 3, 'e': 1, 'h': 1, 'l': 1, 'M': 2, 'p': 1, 'a': 2, 'i': 1, 'd': 1, 'o': 1}\n"
          ],
          "name": "stdout"
        }
      ]
    },
    {
      "cell_type": "code",
      "metadata": {
        "id": "MvCSr0F7eOph"
      },
      "source": [
        ""
      ],
      "execution_count": null,
      "outputs": []
    }
  ]
}